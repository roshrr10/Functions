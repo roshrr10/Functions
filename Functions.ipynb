{
  "nbformat": 4,
  "nbformat_minor": 0,
  "metadata": {
    "colab": {
      "provenance": []
    },
    "kernelspec": {
      "name": "python3",
      "display_name": "Python 3"
    },
    "language_info": {
      "name": "python"
    }
  },
  "cells": [
    {
      "cell_type": "code",
      "execution_count": 1,
      "metadata": {
        "colab": {
          "base_uri": "https://localhost:8080/"
        },
        "id": "VZ6ninXzVQ5g",
        "outputId": "30293966-4186-4139-a0bc-2df2b75338f4"
      },
      "outputs": [
        {
          "output_type": "stream",
          "name": "stdout",
          "text": [
            "Please enter a string: Mississippi\n",
            "i = 04\n",
            "s = 04\n",
            "p = 02\n",
            "m = 01\n"
          ]
        }
      ],
      "source": [
        "def most_frequent(input_string):\n",
        "    # Convert the string to lowercase to make the function case insensitive\n",
        "    input_string = input_string.lower()\n",
        "\n",
        "    # Create a dictionary to count the frequency of each letter\n",
        "    frequency_dict = {}\n",
        "    for letter in input_string:\n",
        "        if letter.isalpha():  # Consider only alphabetic characters\n",
        "            if letter in frequency_dict:\n",
        "                frequency_dict[letter] += 1\n",
        "            else:\n",
        "                frequency_dict[letter] = 1\n",
        "\n",
        "    # Sort the dictionary by frequency in decreasing order\n",
        "    sorted_frequency = sorted(frequency_dict.items(), key=lambda x: x[1], reverse=True)\n",
        "\n",
        "    # Print the letters and their frequencies\n",
        "    for letter, frequency in sorted_frequency:\n",
        "        print(f\"{letter} = {frequency:02d}\")\n",
        "\n",
        "# Main function to take user input and call the most_frequent function\n",
        "def main():\n",
        "    input_string = input(\"Please enter a string: \")\n",
        "    most_frequent(input_string)\n",
        "\n",
        "if __name__ == \"__main__\":\n",
        "    main()\n"
      ]
    }
  ]
}